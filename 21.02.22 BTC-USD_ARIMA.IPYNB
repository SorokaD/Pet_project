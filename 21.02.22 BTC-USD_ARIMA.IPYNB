{
 "cells": [
  {
   "cell_type": "markdown",
   "metadata": {},
   "source": [
    "# Работа с историческими данными пары BTC-USD"
   ]
  },
  {
   "cell_type": "code",
   "execution_count": 43,
   "metadata": {},
   "outputs": [],
   "source": [
    "import pandas as pd\n",
    "import numpy as np\n",
    "import matplotlib.pyplot as plt\n",
    "import seaborn as sns\n",
    "#plt.style.use('seaborn-notebook')\n"
   ]
  },
  {
   "cell_type": "markdown",
   "metadata": {},
   "source": [
    "## ARIMA  \n",
    "Мы провели EDA (в предыдущем ноутбуке) и оказалось, что временной ряд наших данных ности НЕ стационарный характер, однако он неплохо приводится к стационарности с помощью логарифмирования (преобразования Бокса-Кокса), последующего дифференцирования и повтороного деффиринцирования, эти манипуляции над даннными позволяют нам стабилизировать дисперсию, избавится от трендов и перейти к предсказанию (держим в голове, что многократное диффернцирование дает нам \"красивую\" дисперсию, но \"размывает\" предсказанные значения). Посмотрим что нам сможет дать модель ARIMA.\n"
   ]
  },
  {
   "cell_type": "code",
   "execution_count": 16,
   "metadata": {},
   "outputs": [
    {
     "data": {
      "text/html": [
       "<div>\n",
       "<style scoped>\n",
       "    .dataframe tbody tr th:only-of-type {\n",
       "        vertical-align: middle;\n",
       "    }\n",
       "\n",
       "    .dataframe tbody tr th {\n",
       "        vertical-align: top;\n",
       "    }\n",
       "\n",
       "    .dataframe thead th {\n",
       "        text-align: right;\n",
       "    }\n",
       "</style>\n",
       "<table border=\"1\" class=\"dataframe\">\n",
       "  <thead>\n",
       "    <tr style=\"text-align: right;\">\n",
       "      <th></th>\n",
       "      <th>Timestamp</th>\n",
       "      <th>Open</th>\n",
       "      <th>High</th>\n",
       "      <th>Low</th>\n",
       "      <th>Close</th>\n",
       "      <th>Volume_(BTC)</th>\n",
       "      <th>Volume_(Currency)</th>\n",
       "      <th>Weighted_Price</th>\n",
       "    </tr>\n",
       "  </thead>\n",
       "  <tbody>\n",
       "    <tr>\n",
       "      <th>0</th>\n",
       "      <td>1325317920</td>\n",
       "      <td>4.39</td>\n",
       "      <td>4.39</td>\n",
       "      <td>4.39</td>\n",
       "      <td>4.39</td>\n",
       "      <td>0.455581</td>\n",
       "      <td>2.0</td>\n",
       "      <td>4.39</td>\n",
       "    </tr>\n",
       "    <tr>\n",
       "      <th>1</th>\n",
       "      <td>1325317980</td>\n",
       "      <td>NaN</td>\n",
       "      <td>NaN</td>\n",
       "      <td>NaN</td>\n",
       "      <td>NaN</td>\n",
       "      <td>NaN</td>\n",
       "      <td>NaN</td>\n",
       "      <td>NaN</td>\n",
       "    </tr>\n",
       "    <tr>\n",
       "      <th>2</th>\n",
       "      <td>1325318040</td>\n",
       "      <td>NaN</td>\n",
       "      <td>NaN</td>\n",
       "      <td>NaN</td>\n",
       "      <td>NaN</td>\n",
       "      <td>NaN</td>\n",
       "      <td>NaN</td>\n",
       "      <td>NaN</td>\n",
       "    </tr>\n",
       "    <tr>\n",
       "      <th>3</th>\n",
       "      <td>1325318100</td>\n",
       "      <td>NaN</td>\n",
       "      <td>NaN</td>\n",
       "      <td>NaN</td>\n",
       "      <td>NaN</td>\n",
       "      <td>NaN</td>\n",
       "      <td>NaN</td>\n",
       "      <td>NaN</td>\n",
       "    </tr>\n",
       "    <tr>\n",
       "      <th>4</th>\n",
       "      <td>1325318160</td>\n",
       "      <td>NaN</td>\n",
       "      <td>NaN</td>\n",
       "      <td>NaN</td>\n",
       "      <td>NaN</td>\n",
       "      <td>NaN</td>\n",
       "      <td>NaN</td>\n",
       "      <td>NaN</td>\n",
       "    </tr>\n",
       "  </tbody>\n",
       "</table>\n",
       "</div>"
      ],
      "text/plain": [
       "    Timestamp  Open  High   Low  Close  Volume_(BTC)  Volume_(Currency)  \\\n",
       "0  1325317920  4.39  4.39  4.39   4.39      0.455581                2.0   \n",
       "1  1325317980   NaN   NaN   NaN    NaN           NaN                NaN   \n",
       "2  1325318040   NaN   NaN   NaN    NaN           NaN                NaN   \n",
       "3  1325318100   NaN   NaN   NaN    NaN           NaN                NaN   \n",
       "4  1325318160   NaN   NaN   NaN    NaN           NaN                NaN   \n",
       "\n",
       "   Weighted_Price  \n",
       "0            4.39  \n",
       "1             NaN  \n",
       "2             NaN  \n",
       "3             NaN  \n",
       "4             NaN  "
      ]
     },
     "execution_count": 16,
     "metadata": {},
     "output_type": "execute_result"
    }
   ],
   "source": [
    "# загрузим данные\n",
    "data=pd.read_csv('bitcoin 2012-01-01_to_2021-03-31.csv')\n",
    "data.head()"
   ]
  },
  {
   "cell_type": "code",
   "execution_count": 17,
   "metadata": {},
   "outputs": [
    {
     "name": "stdout",
     "output_type": "stream",
     "text": [
      "Записей в нашем датасете после удаления NaN : 3613769\n"
     ]
    }
   ],
   "source": [
    "# удалим порпущенные, по онисанию в дни пропущенных значений не было торгов\n",
    "# есть еще вариант заполнить пустые значения соседними...\n",
    "# data['Volume_(BTC)'].fillna(data['Volume_(BTC)'].mean(),inplace=True)\n",
    "# data['High'].fillna(method='ffill', inplace=True)\n",
    "data.dropna(inplace=True)\n",
    "print('Записей в нашем датасете после удаления NaN :', data.shape[0])"
   ]
  },
  {
   "cell_type": "code",
   "execution_count": 18,
   "metadata": {},
   "outputs": [
    {
     "data": {
      "text/html": [
       "<div>\n",
       "<style scoped>\n",
       "    .dataframe tbody tr th:only-of-type {\n",
       "        vertical-align: middle;\n",
       "    }\n",
       "\n",
       "    .dataframe tbody tr th {\n",
       "        vertical-align: top;\n",
       "    }\n",
       "\n",
       "    .dataframe thead th {\n",
       "        text-align: right;\n",
       "    }\n",
       "</style>\n",
       "<table border=\"1\" class=\"dataframe\">\n",
       "  <thead>\n",
       "    <tr style=\"text-align: right;\">\n",
       "      <th></th>\n",
       "      <th>Timestamp</th>\n",
       "      <th>Open</th>\n",
       "      <th>High</th>\n",
       "      <th>Low</th>\n",
       "      <th>Close</th>\n",
       "      <th>Volume_(BTC)</th>\n",
       "      <th>Volume_(Currency)</th>\n",
       "      <th>Weighted_Price</th>\n",
       "    </tr>\n",
       "    <tr>\n",
       "      <th>Timestamp</th>\n",
       "      <th></th>\n",
       "      <th></th>\n",
       "      <th></th>\n",
       "      <th></th>\n",
       "      <th></th>\n",
       "      <th></th>\n",
       "      <th></th>\n",
       "      <th></th>\n",
       "    </tr>\n",
       "  </thead>\n",
       "  <tbody>\n",
       "    <tr>\n",
       "      <th>2011-12-31 07:52:00</th>\n",
       "      <td>2011-12-31 07:52:00</td>\n",
       "      <td>4.39</td>\n",
       "      <td>4.39</td>\n",
       "      <td>4.39</td>\n",
       "      <td>4.39</td>\n",
       "      <td>0.455581</td>\n",
       "      <td>2.000000</td>\n",
       "      <td>4.390000</td>\n",
       "    </tr>\n",
       "    <tr>\n",
       "      <th>2011-12-31 15:50:00</th>\n",
       "      <td>2011-12-31 15:50:00</td>\n",
       "      <td>4.39</td>\n",
       "      <td>4.39</td>\n",
       "      <td>4.39</td>\n",
       "      <td>4.39</td>\n",
       "      <td>48.000000</td>\n",
       "      <td>210.720000</td>\n",
       "      <td>4.390000</td>\n",
       "    </tr>\n",
       "    <tr>\n",
       "      <th>2011-12-31 16:59:00</th>\n",
       "      <td>2011-12-31 16:59:00</td>\n",
       "      <td>4.50</td>\n",
       "      <td>4.57</td>\n",
       "      <td>4.50</td>\n",
       "      <td>4.57</td>\n",
       "      <td>37.862297</td>\n",
       "      <td>171.380338</td>\n",
       "      <td>4.526411</td>\n",
       "    </tr>\n",
       "    <tr>\n",
       "      <th>2011-12-31 17:00:00</th>\n",
       "      <td>2011-12-31 17:00:00</td>\n",
       "      <td>4.58</td>\n",
       "      <td>4.58</td>\n",
       "      <td>4.58</td>\n",
       "      <td>4.58</td>\n",
       "      <td>9.000000</td>\n",
       "      <td>41.220000</td>\n",
       "      <td>4.580000</td>\n",
       "    </tr>\n",
       "    <tr>\n",
       "      <th>2012-01-01 04:16:00</th>\n",
       "      <td>2012-01-01 04:16:00</td>\n",
       "      <td>4.58</td>\n",
       "      <td>4.58</td>\n",
       "      <td>4.58</td>\n",
       "      <td>4.58</td>\n",
       "      <td>1.502000</td>\n",
       "      <td>6.879160</td>\n",
       "      <td>4.580000</td>\n",
       "    </tr>\n",
       "  </tbody>\n",
       "</table>\n",
       "</div>"
      ],
      "text/plain": [
       "                              Timestamp  Open  High   Low  Close  \\\n",
       "Timestamp                                                          \n",
       "2011-12-31 07:52:00 2011-12-31 07:52:00  4.39  4.39  4.39   4.39   \n",
       "2011-12-31 15:50:00 2011-12-31 15:50:00  4.39  4.39  4.39   4.39   \n",
       "2011-12-31 16:59:00 2011-12-31 16:59:00  4.50  4.57  4.50   4.57   \n",
       "2011-12-31 17:00:00 2011-12-31 17:00:00  4.58  4.58  4.58   4.58   \n",
       "2012-01-01 04:16:00 2012-01-01 04:16:00  4.58  4.58  4.58   4.58   \n",
       "\n",
       "                     Volume_(BTC)  Volume_(Currency)  Weighted_Price  \n",
       "Timestamp                                                             \n",
       "2011-12-31 07:52:00      0.455581           2.000000        4.390000  \n",
       "2011-12-31 15:50:00     48.000000         210.720000        4.390000  \n",
       "2011-12-31 16:59:00     37.862297         171.380338        4.526411  \n",
       "2011-12-31 17:00:00      9.000000          41.220000        4.580000  \n",
       "2012-01-01 04:16:00      1.502000           6.879160        4.580000  "
      ]
     },
     "execution_count": 18,
     "metadata": {},
     "output_type": "execute_result"
    }
   ],
   "source": [
    "# преобразуем Timestamp\tв привычный/понятный и сделаем его индексом \n",
    "data.Timestamp = pd.to_datetime(data.Timestamp, unit='s')\n",
    "data.index = data.Timestamp\n",
    "data.head()"
   ]
  },
  {
   "cell_type": "code",
   "execution_count": 19,
   "metadata": {},
   "outputs": [],
   "source": [
    "# Дневные данные\n",
    "data = data.resample('D').mean()\n",
    "# Месячные данные\n",
    "data_month = data.resample('M').mean()\n",
    "# Квартальные данные \n",
    "data_Q = data.resample('Q-DEC').mean()\n",
    "# Годовые данные\n",
    "data_year = data.resample('A-DEC').mean()\n",
    "# Квартальные данные \n",
    "data_Q = data.resample('Q-DEC').mean()"
   ]
  },
  {
   "cell_type": "code",
   "execution_count": 21,
   "metadata": {},
   "outputs": [
    {
     "data": {
      "text/html": [
       "<div>\n",
       "<style scoped>\n",
       "    .dataframe tbody tr th:only-of-type {\n",
       "        vertical-align: middle;\n",
       "    }\n",
       "\n",
       "    .dataframe tbody tr th {\n",
       "        vertical-align: top;\n",
       "    }\n",
       "\n",
       "    .dataframe thead th {\n",
       "        text-align: right;\n",
       "    }\n",
       "</style>\n",
       "<table border=\"1\" class=\"dataframe\">\n",
       "  <thead>\n",
       "    <tr style=\"text-align: right;\">\n",
       "      <th></th>\n",
       "      <th>Open</th>\n",
       "      <th>High</th>\n",
       "      <th>Low</th>\n",
       "      <th>Close</th>\n",
       "      <th>Volume_(BTC)</th>\n",
       "      <th>Volume_(Currency)</th>\n",
       "      <th>Weighted_Price</th>\n",
       "    </tr>\n",
       "    <tr>\n",
       "      <th>Timestamp</th>\n",
       "      <th></th>\n",
       "      <th></th>\n",
       "      <th></th>\n",
       "      <th></th>\n",
       "      <th></th>\n",
       "      <th></th>\n",
       "      <th></th>\n",
       "    </tr>\n",
       "  </thead>\n",
       "  <tbody>\n",
       "    <tr>\n",
       "      <th>2011-12-31</th>\n",
       "      <td>4.465000</td>\n",
       "      <td>4.482500</td>\n",
       "      <td>4.465000</td>\n",
       "      <td>4.482500</td>\n",
       "      <td>23.829470</td>\n",
       "      <td>106.330084</td>\n",
       "      <td>4.471603</td>\n",
       "    </tr>\n",
       "    <tr>\n",
       "      <th>2012-01-01</th>\n",
       "      <td>4.806667</td>\n",
       "      <td>4.806667</td>\n",
       "      <td>4.806667</td>\n",
       "      <td>4.806667</td>\n",
       "      <td>7.200667</td>\n",
       "      <td>35.259720</td>\n",
       "      <td>4.806667</td>\n",
       "    </tr>\n",
       "    <tr>\n",
       "      <th>2012-01-02</th>\n",
       "      <td>5.000000</td>\n",
       "      <td>5.000000</td>\n",
       "      <td>5.000000</td>\n",
       "      <td>5.000000</td>\n",
       "      <td>19.048000</td>\n",
       "      <td>95.240000</td>\n",
       "      <td>5.000000</td>\n",
       "    </tr>\n",
       "    <tr>\n",
       "      <th>2012-01-03</th>\n",
       "      <td>5.252500</td>\n",
       "      <td>5.252500</td>\n",
       "      <td>5.252500</td>\n",
       "      <td>5.252500</td>\n",
       "      <td>11.004660</td>\n",
       "      <td>58.100651</td>\n",
       "      <td>5.252500</td>\n",
       "    </tr>\n",
       "    <tr>\n",
       "      <th>2012-01-04</th>\n",
       "      <td>5.200000</td>\n",
       "      <td>5.223333</td>\n",
       "      <td>5.200000</td>\n",
       "      <td>5.223333</td>\n",
       "      <td>11.914807</td>\n",
       "      <td>63.119577</td>\n",
       "      <td>5.208159</td>\n",
       "    </tr>\n",
       "  </tbody>\n",
       "</table>\n",
       "</div>"
      ],
      "text/plain": [
       "                Open      High       Low     Close  Volume_(BTC)  \\\n",
       "Timestamp                                                          \n",
       "2011-12-31  4.465000  4.482500  4.465000  4.482500     23.829470   \n",
       "2012-01-01  4.806667  4.806667  4.806667  4.806667      7.200667   \n",
       "2012-01-02  5.000000  5.000000  5.000000  5.000000     19.048000   \n",
       "2012-01-03  5.252500  5.252500  5.252500  5.252500     11.004660   \n",
       "2012-01-04  5.200000  5.223333  5.200000  5.223333     11.914807   \n",
       "\n",
       "            Volume_(Currency)  Weighted_Price  \n",
       "Timestamp                                      \n",
       "2011-12-31         106.330084        4.471603  \n",
       "2012-01-01          35.259720        4.806667  \n",
       "2012-01-02          95.240000        5.000000  \n",
       "2012-01-03          58.100651        5.252500  \n",
       "2012-01-04          63.119577        5.208159  "
      ]
     },
     "execution_count": 21,
     "metadata": {},
     "output_type": "execute_result"
    }
   ],
   "source": [
    "data.head()"
   ]
  },
  {
   "cell_type": "code",
   "execution_count": 30,
   "metadata": {},
   "outputs": [],
   "source": [
    "# прологарифмируем наши данные\n",
    "data_month_log=np.log(data_month)"
   ]
  },
  {
   "cell_type": "markdown",
   "metadata": {},
   "source": [
    "Найдем количество необходимых дифференцирований (с помощью метода ndiffs модуля pmdarima)."
   ]
  },
  {
   "cell_type": "code",
   "execution_count": 32,
   "metadata": {},
   "outputs": [
    {
     "name": "stdout",
     "output_type": "stream",
     "text": [
      "ndiffs DF-test = 1\n",
      "ndiffs KPSS-test = 1\n"
     ]
    }
   ],
   "source": [
    "from pmdarima.arima.utils import ndiffs\n",
    "adftest = ndiffs(data_month_log['Weighted_Price'], test = 'adf')\n",
    "kpsstest = ndiffs(data_month_log['Weighted_Price'], test = 'kpss')\n",
    "print('ndiffs DF-test =', adftest)\n",
    "print('ndiffs KPSS-test =', kpsstest)"
   ]
  },
  {
   "cell_type": "markdown",
   "metadata": {},
   "source": [
    "__ARIMA.__"
   ]
  },
  {
   "cell_type": "code",
   "execution_count": 33,
   "metadata": {},
   "outputs": [],
   "source": [
    "# продеффиринцируем наши отлогарифмированные данные и удалим пустые значения\n",
    "data_month_log_diff=data_month_log.diff().dropna()"
   ]
  },
  {
   "cell_type": "markdown",
   "metadata": {},
   "source": [
    "Для оценки гиперпараметров модели ARIMA посмотрим на автокорреляционную функцию (ACF) и частичную автокорреляционную функцию (PACF). Начальное приближение q выбирается как последний значимый несезонный лаг ACF (0 не считается), p выбирается аналогично опираясь на PACF. "
   ]
  },
  {
   "cell_type": "code",
   "execution_count": 36,
   "metadata": {},
   "outputs": [
    {
     "data": {
      "image/png": "[encoded data removed]",
      "text/plain": [
       "<Figure size 1440x720 with 3 Axes>"
      ]
     },
     "metadata": {
      "needs_background": "light"
     },
     "output_type": "display_data"
    }
   ],
   "source": [
    "from statsmodels.graphics.tsaplots import plot_acf\n",
    "from statsmodels.graphics.tsaplots import plot_pacf\n",
    "\n",
    "fig = plt.figure(figsize=(20,10))\n",
    "ax1 = fig.add_subplot(2,1,1)\n",
    "ax1.set_title('Первое дифференцирование')\n",
    "ax2 = fig.add_subplot(2,2,3)\n",
    "ax3 = fig.add_subplot(2,2,4)\n",
    "\n",
    "ax1.plot(data_month_log_diff['Weighted_Price'])\n",
    "plot_acf(data_month_log_diff['Weighted_Price'], lags=20, ax=ax2);\n",
    "plot_pacf(data_month_log_diff['Weighted_Price'], lags=20, ax=ax3, color='r', method='ywm')\n",
    "plt.show()"
   ]
  },
  {
   "cell_type": "markdown",
   "metadata": {},
   "source": [
    "Примем p=1, q=1"
   ]
  },
  {
   "cell_type": "code",
   "execution_count": 39,
   "metadata": {},
   "outputs": [
    {
     "data": {
      "text/html": [
       "<table class=\"simpletable\">\n",
       "<caption>SARIMAX Results</caption>\n",
       "<tr>\n",
       "  <th>Dep. Variable:</th>    <td>Weighted_Price</td>  <th>  No. Observations:  </th>   <td>112</td>  \n",
       "</tr>\n",
       "<tr>\n",
       "  <th>Model:</th>            <td>ARIMA(1, 1, 1)</td>  <th>  Log Likelihood     </th>  <td>8.569</td> \n",
       "</tr>\n",
       "<tr>\n",
       "  <th>Date:</th>            <td>Mon, 21 Feb 2022</td> <th>  AIC                </th> <td>-11.137</td>\n",
       "</tr>\n",
       "<tr>\n",
       "  <th>Time:</th>                <td>17:52:32</td>     <th>  BIC                </th> <td>-3.009</td> \n",
       "</tr>\n",
       "<tr>\n",
       "  <th>Sample:</th>             <td>12-31-2011</td>    <th>  HQIC               </th> <td>-7.840</td> \n",
       "</tr>\n",
       "<tr>\n",
       "  <th></th>                   <td>- 03-31-2021</td>   <th>                     </th>    <td> </td>   \n",
       "</tr>\n",
       "<tr>\n",
       "  <th>Covariance Type:</th>        <td>opg</td>       <th>                     </th>    <td> </td>   \n",
       "</tr>\n",
       "</table>\n",
       "<table class=\"simpletable\">\n",
       "<tr>\n",
       "     <td></td>       <th>coef</th>     <th>std err</th>      <th>z</th>      <th>P>|z|</th>  <th>[0.025</th>    <th>0.975]</th>  \n",
       "</tr>\n",
       "<tr>\n",
       "  <th>ar.L1</th>  <td>    0.3920</td> <td>    0.197</td> <td>    1.990</td> <td> 0.047</td> <td>    0.006</td> <td>    0.778</td>\n",
       "</tr>\n",
       "<tr>\n",
       "  <th>ma.L1</th>  <td>    0.1184</td> <td>    0.250</td> <td>    0.473</td> <td> 0.636</td> <td>   -0.372</td> <td>    0.609</td>\n",
       "</tr>\n",
       "<tr>\n",
       "  <th>sigma2</th> <td>    0.0500</td> <td>    0.004</td> <td>   13.309</td> <td> 0.000</td> <td>    0.043</td> <td>    0.057</td>\n",
       "</tr>\n",
       "</table>\n",
       "<table class=\"simpletable\">\n",
       "<tr>\n",
       "  <th>Ljung-Box (L1) (Q):</th>     <td>0.28</td> <th>  Jarque-Bera (JB):  </th> <td>121.34</td>\n",
       "</tr>\n",
       "<tr>\n",
       "  <th>Prob(Q):</th>                <td>0.60</td> <th>  Prob(JB):          </th>  <td>0.00</td> \n",
       "</tr>\n",
       "<tr>\n",
       "  <th>Heteroskedasticity (H):</th> <td>0.35</td> <th>  Skew:              </th>  <td>1.06</td> \n",
       "</tr>\n",
       "<tr>\n",
       "  <th>Prob(H) (two-sided):</th>    <td>0.00</td> <th>  Kurtosis:          </th>  <td>7.67</td> \n",
       "</tr>\n",
       "</table><br/><br/>Warnings:<br/>[1] Covariance matrix calculated using the outer product of gradients (complex-step)."
      ],
      "text/plain": [
       "<class 'statsmodels.iolib.summary.Summary'>\n",
       "\"\"\"\n",
       "                               SARIMAX Results                                \n",
       "==============================================================================\n",
       "Dep. Variable:         Weighted_Price   No. Observations:                  112\n",
       "Model:                 ARIMA(1, 1, 1)   Log Likelihood                   8.569\n",
       "Date:                Mon, 21 Feb 2022   AIC                            -11.137\n",
       "Time:                        17:52:32   BIC                             -3.009\n",
       "Sample:                    12-31-2011   HQIC                            -7.840\n",
       "                         - 03-31-2021                                         \n",
       "Covariance Type:                  opg                                         \n",
       "==============================================================================\n",
       "                 coef    std err          z      P>|z|      [0.025      0.975]\n",
       "------------------------------------------------------------------------------\n",
       "ar.L1          0.3920      0.197      1.990      0.047       0.006       0.778\n",
       "ma.L1          0.1184      0.250      0.473      0.636      -0.372       0.609\n",
       "sigma2         0.0500      0.004     13.309      0.000       0.043       0.057\n",
       "===================================================================================\n",
       "Ljung-Box (L1) (Q):                   0.28   Jarque-Bera (JB):               121.34\n",
       "Prob(Q):                              0.60   Prob(JB):                         0.00\n",
       "Heteroskedasticity (H):               0.35   Skew:                             1.06\n",
       "Prob(H) (two-sided):                  0.00   Kurtosis:                         7.67\n",
       "===================================================================================\n",
       "\n",
       "Warnings:\n",
       "[1] Covariance matrix calculated using the outer product of gradients (complex-step).\n",
       "\"\"\""
      ]
     },
     "execution_count": 39,
     "metadata": {},
     "output_type": "execute_result"
    }
   ],
   "source": [
    "from statsmodels.tsa.arima.model import ARIMA\n",
    "p=1 \n",
    "d=1 \n",
    "q=1\n",
    "arima = ARIMA(data_month_log['Weighted_Price'], order=(p,d,q)) #1,1,1\n",
    "#arima = arima.fit(disp = 0 )\n",
    "arima = arima.fit()\n",
    "arima.summary()"
   ]
  },
  {
   "cell_type": "code",
   "execution_count": 47,
   "metadata": {},
   "outputs": [
    {
     "data": {
      "image/png": "[encoded data removed]",
      "text/plain": [
       "<Figure size 576x396 with 2 Axes>"
      ]
     },
     "metadata": {
      "needs_background": "light"
     },
     "output_type": "display_data"
    }
   ],
   "source": [
    "myresiduals = pd.DataFrame(arima.resid) \n",
    "fig, ax = plt.subplots(1,2) \n",
    "myresiduals.plot(title = \"Residuals\", ax = ax[0]) \n",
    "myresiduals.plot(kind = 'kde', title = 'Density', ax = ax[1]) \n",
    "plt.show() "
   ]
  },
  {
   "cell_type": "code",
   "execution_count": 75,
   "metadata": {},
   "outputs": [
    {
     "name": "stdout",
     "output_type": "stream",
     "text": [
      "Performing stepwise search to minimize aic\n",
      " ARIMA(2,1,0)(0,1,0)[12]             : AIC=69.848, Time=0.11 sec\n",
      " ARIMA(0,1,0)(0,1,0)[12]             : AIC=95.087, Time=0.03 sec\n",
      " ARIMA(1,1,0)(1,1,0)[12]             : AIC=30.383, Time=0.50 sec\n",
      " ARIMA(0,1,1)(0,1,1)[12]             : AIC=inf, Time=1.16 sec\n",
      " ARIMA(1,1,0)(0,1,0)[12]             : AIC=68.710, Time=0.11 sec\n",
      " ARIMA(1,1,0)(2,1,0)[12]             : AIC=20.282, Time=1.04 sec\n",
      " ARIMA(1,1,0)(3,1,0)[12]             : AIC=17.500, Time=1.66 sec\n",
      " ARIMA(1,1,0)(4,1,0)[12]             : AIC=19.498, Time=3.64 sec\n",
      " ARIMA(1,1,0)(3,1,1)[12]             : AIC=19.498, Time=3.82 sec\n",
      " ARIMA(1,1,0)(2,1,1)[12]             : AIC=18.073, Time=1.48 sec\n",
      " ARIMA(1,1,0)(4,1,1)[12]             : AIC=21.499, Time=5.76 sec\n",
      " ARIMA(0,1,0)(3,1,0)[12]             : AIC=30.197, Time=1.18 sec\n",
      " ARIMA(2,1,0)(3,1,0)[12]             : AIC=19.317, Time=1.40 sec\n",
      " ARIMA(1,1,1)(3,1,0)[12]             : AIC=19.338, Time=2.47 sec\n",
      " ARIMA(0,1,1)(3,1,0)[12]             : AIC=18.718, Time=1.49 sec\n",
      " ARIMA(2,1,1)(3,1,0)[12]             : AIC=21.140, Time=5.74 sec\n",
      " ARIMA(1,1,0)(3,1,0)[12] intercept   : AIC=19.186, Time=2.75 sec\n",
      "\n",
      "Best model:  ARIMA(1,1,0)(3,1,0)[12]          \n",
      "Total fit time: 34.400 seconds\n"
     ]
    }
   ],
   "source": [
    "from pmdarima.arima import auto_arima\n",
    "arima_model= auto_arima(data_month_log['Weighted_Price'], d=1, start_q=0,\\\n",
    "    max_p=12, max_d=12, max_q=12, start_P=0, D=1, start_Q=0, max_P=12, max_D=12,\\\n",
    "        max_Q=12, m=12, seasonal=True, error_action='warn', trace=True,\\\n",
    "            suppress_warnings=True, stepwise=True, random_state=20, n_fits=50)"
   ]
  },
  {
   "cell_type": "code",
   "execution_count": 51,
   "metadata": {},
   "outputs": [
    {
     "data": {
      "text/html": [
       "<table class=\"simpletable\">\n",
       "<caption>SARIMAX Results</caption>\n",
       "<tr>\n",
       "  <th>Dep. Variable:</th>                  <td>y</td>               <th>  No. Observations:  </th>   <td>112</td> \n",
       "</tr>\n",
       "<tr>\n",
       "  <th>Model:</th>           <td>SARIMAX(1, 1, 0)x(3, 1, 0, 12)</td> <th>  Log Likelihood     </th> <td>-3.750</td>\n",
       "</tr>\n",
       "<tr>\n",
       "  <th>Date:</th>                   <td>Mon, 21 Feb 2022</td>        <th>  AIC                </th> <td>17.500</td>\n",
       "</tr>\n",
       "<tr>\n",
       "  <th>Time:</th>                       <td>19:54:53</td>            <th>  BIC                </th> <td>30.476</td>\n",
       "</tr>\n",
       "<tr>\n",
       "  <th>Sample:</th>                         <td>0</td>               <th>  HQIC               </th> <td>22.750</td>\n",
       "</tr>\n",
       "<tr>\n",
       "  <th></th>                             <td> - 112</td>             <th>                     </th>    <td> </td>  \n",
       "</tr>\n",
       "<tr>\n",
       "  <th>Covariance Type:</th>               <td>opg</td>              <th>                     </th>    <td> </td>  \n",
       "</tr>\n",
       "</table>\n",
       "<table class=\"simpletable\">\n",
       "<tr>\n",
       "      <td></td>        <th>coef</th>     <th>std err</th>      <th>z</th>      <th>P>|z|</th>  <th>[0.025</th>    <th>0.975]</th>  \n",
       "</tr>\n",
       "<tr>\n",
       "  <th>ar.L1</th>    <td>    0.4032</td> <td>    0.098</td> <td>    4.118</td> <td> 0.000</td> <td>    0.211</td> <td>    0.595</td>\n",
       "</tr>\n",
       "<tr>\n",
       "  <th>ar.S.L12</th> <td>   -0.9321</td> <td>    0.102</td> <td>   -9.103</td> <td> 0.000</td> <td>   -1.133</td> <td>   -0.731</td>\n",
       "</tr>\n",
       "<tr>\n",
       "  <th>ar.S.L24</th> <td>   -0.6381</td> <td>    0.141</td> <td>   -4.541</td> <td> 0.000</td> <td>   -0.914</td> <td>   -0.363</td>\n",
       "</tr>\n",
       "<tr>\n",
       "  <th>ar.S.L36</th> <td>   -0.3174</td> <td>    0.120</td> <td>   -2.639</td> <td> 0.008</td> <td>   -0.553</td> <td>   -0.082</td>\n",
       "</tr>\n",
       "<tr>\n",
       "  <th>sigma2</th>   <td>    0.0555</td> <td>    0.008</td> <td>    6.731</td> <td> 0.000</td> <td>    0.039</td> <td>    0.072</td>\n",
       "</tr>\n",
       "</table>\n",
       "<table class=\"simpletable\">\n",
       "<tr>\n",
       "  <th>Ljung-Box (L1) (Q):</th>     <td>0.02</td> <th>  Jarque-Bera (JB):  </th> <td>9.76</td>\n",
       "</tr>\n",
       "<tr>\n",
       "  <th>Prob(Q):</th>                <td>0.90</td> <th>  Prob(JB):          </th> <td>0.01</td>\n",
       "</tr>\n",
       "<tr>\n",
       "  <th>Heteroskedasticity (H):</th> <td>0.48</td> <th>  Skew:              </th> <td>0.66</td>\n",
       "</tr>\n",
       "<tr>\n",
       "  <th>Prob(H) (two-sided):</th>    <td>0.04</td> <th>  Kurtosis:          </th> <td>3.77</td>\n",
       "</tr>\n",
       "</table><br/><br/>Warnings:<br/>[1] Covariance matrix calculated using the outer product of gradients (complex-step)."
      ],
      "text/plain": [
       "<class 'statsmodels.iolib.summary.Summary'>\n",
       "\"\"\"\n",
       "                                     SARIMAX Results                                      \n",
       "==========================================================================================\n",
       "Dep. Variable:                                  y   No. Observations:                  112\n",
       "Model:             SARIMAX(1, 1, 0)x(3, 1, 0, 12)   Log Likelihood                  -3.750\n",
       "Date:                            Mon, 21 Feb 2022   AIC                             17.500\n",
       "Time:                                    19:54:53   BIC                             30.476\n",
       "Sample:                                         0   HQIC                            22.750\n",
       "                                            - 112                                         \n",
       "Covariance Type:                              opg                                         \n",
       "==============================================================================\n",
       "                 coef    std err          z      P>|z|      [0.025      0.975]\n",
       "------------------------------------------------------------------------------\n",
       "ar.L1          0.4032      0.098      4.118      0.000       0.211       0.595\n",
       "ar.S.L12      -0.9321      0.102     -9.103      0.000      -1.133      -0.731\n",
       "ar.S.L24      -0.6381      0.141     -4.541      0.000      -0.914      -0.363\n",
       "ar.S.L36      -0.3174      0.120     -2.639      0.008      -0.553      -0.082\n",
       "sigma2         0.0555      0.008      6.731      0.000       0.039       0.072\n",
       "===================================================================================\n",
       "Ljung-Box (L1) (Q):                   0.02   Jarque-Bera (JB):                 9.76\n",
       "Prob(Q):                              0.90   Prob(JB):                         0.01\n",
       "Heteroskedasticity (H):               0.48   Skew:                             0.66\n",
       "Prob(H) (two-sided):                  0.04   Kurtosis:                         3.77\n",
       "===================================================================================\n",
       "\n",
       "Warnings:\n",
       "[1] Covariance matrix calculated using the outer product of gradients (complex-step).\n",
       "\"\"\""
      ]
     },
     "execution_count": 51,
     "metadata": {},
     "output_type": "execute_result"
    }
   ],
   "source": [
    "arima_model.summary()"
   ]
  },
  {
   "cell_type": "code",
   "execution_count": 73,
   "metadata": {},
   "outputs": [
    {
     "name": "stdout",
     "output_type": "stream",
     "text": [
      "==============================================================================\n",
      "                 coef    std err          z      P>|z|      [0.025      0.975]\n",
      "------------------------------------------------------------------------------\n",
      "ar.L1          0.2485      0.139      1.786      0.074      -0.024       0.521\n",
      "ar.S.L12      -0.8383      0.116     -7.204      0.000      -1.066      -0.610\n",
      "ar.S.L24      -0.5766      0.139     -4.142      0.000      -0.849      -0.304\n",
      "ar.S.L36      -0.3173      0.116     -2.742      0.006      -0.544      -0.090\n",
      "sigma2         0.0422      0.007      5.622      0.000       0.027       0.057\n",
      "==============================================================================\n"
     ]
    }
   ],
   "source": [
    "import statsmodels.api as sm\n",
    "mod = sm.tsa.statespace.SARIMAX(data_month_log.Weighted_Price,order=(1, 1, 0),\n",
    "                                seasonal_order=(3, 1, 0, 12),\n",
    "                                enforce_stationarity=False,\n",
    "                                enforce_invertibility=False)\n",
    "sarimax = mod.fit()\n",
    "print(sarimax.summary().tables[1])"
   ]
  },
  {
   "cell_type": "code",
   "execution_count": 74,
   "metadata": {},
   "outputs": [
    {
     "data": {
      "image/png": "[encoded data removed]",
      "text/plain": [
       "<Figure size 576x396 with 2 Axes>"
      ]
     },
     "metadata": {
      "needs_background": "light"
     },
     "output_type": "display_data"
    }
   ],
   "source": [
    "myresiduals = pd.DataFrame(sarimax.resid) \n",
    "fig, ax = plt.subplots(1,2) \n",
    "myresiduals.plot(title = \"Residuals\", ax = ax[0]) \n",
    "myresiduals.plot(kind = 'kde', title = 'Density', ax = ax[1]) \n",
    "plt.show() "
   ]
  },
  {
   "cell_type": "code",
   "execution_count": null,
   "metadata": {},
   "outputs": [],
   "source": []
  },
  {
   "cell_type": "code",
   "execution_count": null,
   "metadata": {},
   "outputs": [],
   "source": []
  },
  {
   "cell_type": "code",
   "execution_count": null,
   "metadata": {},
   "outputs": [],
   "source": []
  },
  {
   "cell_type": "code",
   "execution_count": null,
   "metadata": {},
   "outputs": [],
   "source": []
  },
  {
   "cell_type": "code",
   "execution_count": null,
   "metadata": {},
   "outputs": [],
   "source": []
  },
  {
   "cell_type": "code",
   "execution_count": null,
   "metadata": {},
   "outputs": [],
   "source": []
  },
  {
   "cell_type": "code",
   "execution_count": null,
   "metadata": {},
   "outputs": [],
   "source": []
  }
 ],
 "metadata": {
  "interpreter": {
   "hash": "6d46af94c2bbce495f1e668725902fa517c90b1782bcfe2fce0dd9868df553d3"
  },
  "kernelspec": {
   "display_name": "Python 3.8.8 64-bit ('base': conda)",
   "name": "python3"
  },
  "language_info": {
   "codemirror_mode": {
    "name": "ipython",
    "version": 3
   },
   "file_extension": ".py",
   "mimetype": "text/x-python",
   "name": "python",
   "nbconvert_exporter": "python",
   "pygments_lexer": "ipython3",
   "version": "3.8.8"
  },
  "orig_nbformat": 4
 },
 "nbformat": 4,
 "nbformat_minor": 2
}
